{
  "nbformat": 4,
  "nbformat_minor": 0,
  "metadata": {
    "kernelspec": {
      "display_name": "Python 3",
      "language": "python",
      "name": "python3"
    },
    "language_info": {
      "codemirror_mode": {
        "name": "ipython",
        "version": 3
      },
      "file_extension": ".py",
      "mimetype": "text/x-python",
      "name": "python",
      "nbconvert_exporter": "python",
      "pygments_lexer": "ipython3",
      "version": "3.7.3"
    },
    "colab": {
      "name": "DMW_plot.ipynb",
      "provenance": [],
      "collapsed_sections": []
    }
  },
  "cells": [
    {
      "cell_type": "code",
      "metadata": {
        "_cell_guid": "b1076dfc-b9ad-4769-8c92-a6c4dae69d19",
        "_uuid": "8f2839f25d086af736a60e9eeb907d3b93b6e0e5",
        "id": "cTsduJWAbzCl",
        "colab_type": "code",
        "trusted": true,
        "outputId": "83426d03-866f-4c4f-bd42-3b0d336939d9",
        "colab": {
          "base_uri": "https://localhost:8080/",
          "height": 54
        }
      },
      "source": [
        "import pandas as pd\n",
        "import numpy as np\n",
        "import re \n",
        "import nltk  \n",
        "from nltk.corpus import stopwords \n",
        "from nltk.stem.porter import PorterStemmer \n",
        "from sklearn.feature_extraction.text import CountVectorizer \n",
        "from sklearn.model_selection import train_test_split\n",
        "from sklearn.ensemble import RandomForestClassifier \n",
        "from sklearn.metrics import accuracy_score\n",
        "from sklearn.naive_bayes import GaussianNB, MultinomialNB\n",
        "from google.colab import drive\n",
        "drive.mount('/content/gdrive')"
      ],
      "execution_count": 0,
      "outputs": [
        {
          "output_type": "stream",
          "text": [
            "Drive already mounted at /content/gdrive; to attempt to forcibly remount, call drive.mount(\"/content/gdrive\", force_remount=True).\n"
          ],
          "name": "stdout"
        }
      ]
    },
    {
      "cell_type": "code",
      "metadata": {
        "_cell_guid": "79c7e3d0-c299-4dcb-8224-4455121ee9b0",
        "_uuid": "d629ff2d2480ee46fbb7e2d37f6b5fab8052498a",
        "id": "kWa2PirqbzC1",
        "colab_type": "code",
        "trusted": true,
        "colab": {}
      },
      "source": [
        "import matplotlib.pyplot as plt\n",
        "dataset = pd.read_csv('/content/gdrive/My Drive/Patient/train.csv',header=0,encoding = 'unicode_escape')\n",
        "test_data = pd.read_csv('/content/gdrive/My Drive/Patient/test.csv',header=0,encoding = 'unicode_escape')"
      ],
      "execution_count": 0,
      "outputs": []
    },
    {
      "cell_type": "code",
      "metadata": {
        "id": "ZV62yaynbzDF",
        "colab_type": "code",
        "outputId": "32c72e30-ed2e-493e-8a0b-d87f74895ffa",
        "trusted": true,
        "colab": {
          "base_uri": "https://localhost:8080/",
          "height": 450
        }
      },
      "source": [
        "dataset.head()"
      ],
      "execution_count": 0,
      "outputs": [
        {
          "output_type": "execute_result",
          "data": {
            "text/html": [
              "<div>\n",
              "<style scoped>\n",
              "    .dataframe tbody tr th:only-of-type {\n",
              "        vertical-align: middle;\n",
              "    }\n",
              "\n",
              "    .dataframe tbody tr th {\n",
              "        vertical-align: top;\n",
              "    }\n",
              "\n",
              "    .dataframe thead th {\n",
              "        text-align: right;\n",
              "    }\n",
              "</style>\n",
              "<table border=\"1\" class=\"dataframe\">\n",
              "  <thead>\n",
              "    <tr style=\"text-align: right;\">\n",
              "      <th></th>\n",
              "      <th>Source</th>\n",
              "      <th>Host</th>\n",
              "      <th>Link</th>\n",
              "      <th>Date(ET)</th>\n",
              "      <th>Time(ET)</th>\n",
              "      <th>time(GMT)</th>\n",
              "      <th>Title</th>\n",
              "      <th>TRANS_CONV_TEXT</th>\n",
              "      <th>Patient_Tag</th>\n",
              "    </tr>\n",
              "  </thead>\n",
              "  <tbody>\n",
              "    <tr>\n",
              "      <th>0</th>\n",
              "      <td>FORUMS</td>\n",
              "      <td>cafepharma.com</td>\n",
              "      <td>http://cafepharma.com/boards/threads/epstein.5...</td>\n",
              "      <td>6/15/2016</td>\n",
              "      <td>13:58:00</td>\n",
              "      <td>6/15/2016 23:28</td>\n",
              "      <td>Epstein</td>\n",
              "      <td>I don't disagree with you in principle. I'm ju...</td>\n",
              "      <td>0</td>\n",
              "    </tr>\n",
              "    <tr>\n",
              "      <th>1</th>\n",
              "      <td>FORUMS</td>\n",
              "      <td>www.patient.co.uk</td>\n",
              "      <td>http://www.patient.co.uk/forums/discuss/enlarg...</td>\n",
              "      <td>5/7/2016</td>\n",
              "      <td>0.820833333</td>\n",
              "      <td>42498.21667</td>\n",
              "      <td>Enlarged Heart.Thread Enlarged Heart</td>\n",
              "      <td>I am always dizzy I get dizzy standing up so I...</td>\n",
              "      <td>1</td>\n",
              "    </tr>\n",
              "    <tr>\n",
              "      <th>2</th>\n",
              "      <td>BLOG</td>\n",
              "      <td>http://abcnewsradioonline.com/entertainment-news</td>\n",
              "      <td>http://abcnewsradioonline.com/entertainment-ne...</td>\n",
              "      <td>4/14/2016</td>\n",
              "      <td>15:00:38</td>\n",
              "      <td>4/15/2016 0:30</td>\n",
              "      <td>Queen Latifah Joins American Heart Association...</td>\n",
              "      <td>Axelle/Bauer-Griffin/FilmMagic(NEW YORK) -- Qu...</td>\n",
              "      <td>0</td>\n",
              "    </tr>\n",
              "    <tr>\n",
              "      <th>3</th>\n",
              "      <td>FORUMS</td>\n",
              "      <td>www.cancer-forums.net</td>\n",
              "      <td>http://www.cancer-forums.net/viewtopic.php?f=1...</td>\n",
              "      <td>6/18/2016</td>\n",
              "      <td>20:46:00</td>\n",
              "      <td>6/19/2016 6:16</td>\n",
              "      <td>Bulaemia</td>\n",
              "      <td>I am 17 and I have been throwing up for about ...</td>\n",
              "      <td>1</td>\n",
              "    </tr>\n",
              "    <tr>\n",
              "      <th>4</th>\n",
              "      <td>FORUMS</td>\n",
              "      <td>www.diyaudio.com</td>\n",
              "      <td>http://www.diyaudio.com/forums/lounge/292252-d...</td>\n",
              "      <td>6/15/2016</td>\n",
              "      <td>3:26:00</td>\n",
              "      <td>6/15/2016 12:56</td>\n",
              "      <td>DIY Silver interconnects and RCAs???</td>\n",
              "      <td>Quote: Originally Posted by Boyan Silyavski Wa...</td>\n",
              "      <td>0</td>\n",
              "    </tr>\n",
              "  </tbody>\n",
              "</table>\n",
              "</div>"
            ],
            "text/plain": [
              "   Source  ... Patient_Tag\n",
              "0  FORUMS  ...           0\n",
              "1  FORUMS  ...           1\n",
              "2    BLOG  ...           0\n",
              "3  FORUMS  ...           1\n",
              "4  FORUMS  ...           0\n",
              "\n",
              "[5 rows x 9 columns]"
            ]
          },
          "metadata": {
            "tags": []
          },
          "execution_count": 4
        }
      ]
    },
    {
      "cell_type": "code",
      "metadata": {
        "id": "lx-etaOvbzDQ",
        "colab_type": "code",
        "outputId": "24e7a932-5620-4c65-e4fe-30fd4044c579",
        "trusted": true,
        "colab": {
          "base_uri": "https://localhost:8080/",
          "height": 67
        }
      },
      "source": [
        "nltk.download('stopwords') "
      ],
      "execution_count": 0,
      "outputs": [
        {
          "output_type": "stream",
          "text": [
            "[nltk_data] Downloading package stopwords to /root/nltk_data...\n",
            "[nltk_data]   Unzipping corpora/stopwords.zip.\n"
          ],
          "name": "stdout"
        },
        {
          "output_type": "execute_result",
          "data": {
            "text/plain": [
              "True"
            ]
          },
          "metadata": {
            "tags": []
          },
          "execution_count": 8
        }
      ]
    },
    {
      "cell_type": "code",
      "metadata": {
        "id": "1LgrwQaBbzDW",
        "colab_type": "code",
        "trusted": true,
        "colab": {}
      },
      "source": [
        "corpus = []  \n",
        "\n",
        "for i in range(0, 1157):  \n",
        "    \n",
        "    review = re.sub('[^a-zA-Z]', ' ', str(dataset['TRANS_CONV_TEXT'][i]))  \n",
        "    review = review.lower() \n",
        "    review = review.split()  \n",
        "    ps = PorterStemmer()  \n",
        "    review = [ps.stem(word) for word in review \n",
        "                if not word in set(stopwords.words('english'))]  \n",
        "    review = ' '.join(review)   \n",
        "    \n",
        "    corpus.append(review)  "
      ],
      "execution_count": 0,
      "outputs": []
    },
    {
      "cell_type": "code",
      "metadata": {
        "id": "uq-YoBWYbzDc",
        "colab_type": "code",
        "outputId": "b902b622-184e-42b2-95ea-4429c2821636",
        "trusted": true,
        "colab": {
          "base_uri": "https://localhost:8080/",
          "height": 34
        }
      },
      "source": [
        "len(corpus)"
      ],
      "execution_count": 0,
      "outputs": [
        {
          "output_type": "execute_result",
          "data": {
            "text/plain": [
              "1157"
            ]
          },
          "metadata": {
            "tags": []
          },
          "execution_count": 10
        }
      ]
    },
    {
      "cell_type": "code",
      "metadata": {
        "id": "P5zizRTDbzDg",
        "colab_type": "code",
        "trusted": true,
        "colab": {}
      },
      "source": [
        "cv = CountVectorizer(max_features = 1500)  \n",
        "   \n",
        "X = cv.fit_transform(corpus).toarray()  \n",
        "  \n",
        "y = dataset['Patient_Tag']"
      ],
      "execution_count": 0,
      "outputs": []
    },
    {
      "cell_type": "code",
      "metadata": {
        "id": "cusaprwkbzDi",
        "colab_type": "code",
        "outputId": "25fd66a5-bc39-4fce-f1e0-10b4c68f74a2",
        "trusted": true,
        "colab": {
          "base_uri": "https://localhost:8080/",
          "height": 34
        }
      },
      "source": [
        "y.shape"
      ],
      "execution_count": 0,
      "outputs": [
        {
          "output_type": "execute_result",
          "data": {
            "text/plain": [
              "(1157,)"
            ]
          },
          "metadata": {
            "tags": []
          },
          "execution_count": 12
        }
      ]
    },
    {
      "cell_type": "code",
      "metadata": {
        "id": "b5DMvNs6bzDm",
        "colab_type": "code",
        "trusted": true,
        "colab": {}
      },
      "source": [
        "x_train,x_test,y_train,y_test = train_test_split(X,y,test_size=0.2)"
      ],
      "execution_count": 0,
      "outputs": []
    },
    {
      "cell_type": "code",
      "metadata": {
        "id": "AE7qtO7spxtG",
        "colab_type": "code",
        "colab": {}
      },
      "source": [
        ""
      ],
      "execution_count": 0,
      "outputs": []
    },
    {
      "cell_type": "markdown",
      "metadata": {
        "id": "DX5HPcVilatr",
        "colab_type": "text"
      },
      "source": [
        "# Random Forest"
      ]
    },
    {
      "cell_type": "code",
      "metadata": {
        "id": "F4A0XZOtbzDo",
        "colab_type": "code",
        "outputId": "028cd4cd-e433-444b-fdfb-2cf40f8573f3",
        "trusted": true,
        "colab": {
          "base_uri": "https://localhost:8080/",
          "height": 134
        }
      },
      "source": [
        "model = RandomForestClassifier(n_estimators = 501, \n",
        "                            criterion = 'entropy') \n",
        "                              \n",
        "model.fit(x_train, y_train)"
      ],
      "execution_count": 0,
      "outputs": [
        {
          "output_type": "execute_result",
          "data": {
            "text/plain": [
              "RandomForestClassifier(bootstrap=True, class_weight=None, criterion='entropy',\n",
              "                       max_depth=None, max_features='auto', max_leaf_nodes=None,\n",
              "                       min_impurity_decrease=0.0, min_impurity_split=None,\n",
              "                       min_samples_leaf=1, min_samples_split=2,\n",
              "                       min_weight_fraction_leaf=0.0, n_estimators=501,\n",
              "                       n_jobs=None, oob_score=False, random_state=None,\n",
              "                       verbose=0, warm_start=False)"
            ]
          },
          "metadata": {
            "tags": []
          },
          "execution_count": 14
        }
      ]
    },
    {
      "cell_type": "code",
      "metadata": {
        "id": "S89nisYUbzDs",
        "colab_type": "code",
        "outputId": "1cc7115f-b2cd-4576-bd0c-298e15d44b47",
        "trusted": true,
        "colab": {
          "base_uri": "https://localhost:8080/",
          "height": 202
        }
      },
      "source": [
        "y_pred = model.predict(x_test) \n",
        "  \n",
        "y_pred "
      ],
      "execution_count": 0,
      "outputs": [
        {
          "output_type": "execute_result",
          "data": {
            "text/plain": [
              "array([0, 0, 0, 0, 0, 0, 0, 0, 0, 0, 0, 1, 0, 1, 0, 0, 0, 0, 0, 0, 0, 0,\n",
              "       0, 0, 0, 0, 0, 0, 0, 0, 0, 0, 1, 0, 0, 0, 1, 0, 0, 0, 0, 0, 0, 0,\n",
              "       0, 0, 0, 0, 0, 0, 0, 0, 0, 0, 0, 0, 0, 0, 0, 0, 0, 0, 0, 1, 0, 0,\n",
              "       0, 0, 0, 0, 0, 0, 0, 0, 0, 0, 0, 0, 0, 0, 0, 1, 0, 0, 0, 0, 1, 0,\n",
              "       0, 1, 0, 0, 0, 1, 1, 0, 0, 0, 0, 0, 0, 0, 0, 0, 0, 0, 0, 0, 0, 0,\n",
              "       1, 0, 0, 0, 0, 0, 1, 1, 0, 0, 0, 0, 0, 0, 0, 0, 0, 0, 0, 0, 0, 0,\n",
              "       0, 0, 0, 0, 0, 1, 0, 0, 0, 0, 0, 0, 0, 0, 0, 0, 0, 0, 1, 0, 0, 0,\n",
              "       0, 0, 0, 0, 0, 0, 0, 0, 0, 0, 0, 0, 0, 0, 0, 1, 0, 0, 0, 0, 0, 0,\n",
              "       0, 0, 0, 0, 0, 0, 0, 0, 0, 0, 1, 0, 0, 0, 0, 1, 0, 0, 0, 0, 0, 0,\n",
              "       1, 0, 0, 0, 0, 0, 0, 0, 0, 0, 0, 0, 0, 0, 0, 0, 0, 1, 0, 1, 0, 0,\n",
              "       0, 0, 0, 0, 0, 1, 0, 0, 0, 0, 0, 0])"
            ]
          },
          "metadata": {
            "tags": []
          },
          "execution_count": 15
        }
      ]
    },
    {
      "cell_type": "code",
      "metadata": {
        "id": "99oBZaxDbzDv",
        "colab_type": "code",
        "outputId": "fd026cd6-fab7-4edf-e859-b4045b5ca810",
        "trusted": true,
        "colab": {
          "base_uri": "https://localhost:8080/",
          "height": 34
        }
      },
      "source": [
        "accuracy_score(y_test,y_pred)"
      ],
      "execution_count": 0,
      "outputs": [
        {
          "output_type": "execute_result",
          "data": {
            "text/plain": [
              "0.7887931034482759"
            ]
          },
          "metadata": {
            "tags": []
          },
          "execution_count": 16
        }
      ]
    },
    {
      "cell_type": "markdown",
      "metadata": {
        "id": "8Cr47kVdlkhL",
        "colab_type": "text"
      },
      "source": [
        "# Naive Bayes"
      ]
    },
    {
      "cell_type": "code",
      "metadata": {
        "id": "ZeUIlOjcnVIp",
        "colab_type": "code",
        "colab": {}
      },
      "source": [
        ""
      ],
      "execution_count": 0,
      "outputs": []
    },
    {
      "cell_type": "markdown",
      "metadata": {
        "id": "SyhQtw53nVvv",
        "colab_type": "text"
      },
      "source": [
        ""
      ]
    },
    {
      "cell_type": "code",
      "metadata": {
        "id": "lVb9-JQ3bzDy",
        "colab_type": "code",
        "trusted": true,
        "colab": {}
      },
      "source": [
        "gaussian_model = GaussianNB()"
      ],
      "execution_count": 0,
      "outputs": []
    },
    {
      "cell_type": "markdown",
      "metadata": {
        "id": "b_6V3wzEIHnC",
        "colab_type": "text"
      },
      "source": [
        ""
      ]
    },
    {
      "cell_type": "code",
      "metadata": {
        "id": "T7RNrZOzbzD0",
        "colab_type": "code",
        "outputId": "5dd8cedb-2469-41d2-ce30-ca4d7f2f1cbe",
        "trusted": true,
        "colab": {
          "base_uri": "https://localhost:8080/",
          "height": 34
        }
      },
      "source": [
        "gaussian_model.fit(x_train, y_train)"
      ],
      "execution_count": 0,
      "outputs": [
        {
          "output_type": "execute_result",
          "data": {
            "text/plain": [
              "GaussianNB(priors=None, var_smoothing=1e-09)"
            ]
          },
          "metadata": {
            "tags": []
          },
          "execution_count": 18
        }
      ]
    },
    {
      "cell_type": "code",
      "metadata": {
        "id": "T2d8Vd-ZbzD2",
        "colab_type": "code",
        "trusted": true,
        "colab": {}
      },
      "source": [
        "y_gauss_pred = gaussian_model.predict(x_test)"
      ],
      "execution_count": 0,
      "outputs": []
    },
    {
      "cell_type": "code",
      "metadata": {
        "id": "a-raXsqgbzD5",
        "colab_type": "code",
        "outputId": "4026ab6c-8c34-4eaa-f179-eace2bcab7a4",
        "trusted": true,
        "colab": {
          "base_uri": "https://localhost:8080/",
          "height": 202
        }
      },
      "source": [
        "y_gauss_pred"
      ],
      "execution_count": 0,
      "outputs": [
        {
          "output_type": "execute_result",
          "data": {
            "text/plain": [
              "array([0, 0, 0, 1, 0, 1, 0, 0, 0, 0, 0, 1, 0, 0, 0, 0, 1, 0, 0, 0, 0, 0,\n",
              "       0, 0, 1, 0, 0, 0, 1, 0, 0, 0, 1, 1, 0, 0, 0, 1, 0, 1, 0, 0, 0, 1,\n",
              "       0, 0, 1, 0, 0, 0, 0, 0, 0, 1, 0, 0, 0, 0, 0, 0, 0, 0, 1, 0, 0, 1,\n",
              "       1, 0, 0, 0, 0, 0, 0, 0, 1, 0, 0, 0, 0, 1, 0, 1, 0, 1, 0, 0, 1, 0,\n",
              "       0, 0, 1, 0, 1, 0, 1, 0, 0, 1, 0, 0, 1, 1, 0, 1, 0, 0, 0, 1, 0, 0,\n",
              "       0, 0, 0, 0, 0, 0, 0, 1, 1, 0, 0, 0, 0, 0, 0, 0, 1, 0, 0, 0, 0, 0,\n",
              "       0, 0, 0, 1, 0, 0, 0, 0, 0, 1, 1, 0, 0, 1, 0, 0, 0, 0, 0, 0, 0, 0,\n",
              "       0, 1, 1, 1, 0, 0, 0, 0, 0, 1, 0, 1, 0, 1, 0, 0, 0, 0, 0, 1, 0, 1,\n",
              "       0, 0, 0, 0, 1, 0, 1, 1, 0, 0, 0, 0, 0, 1, 0, 0, 0, 1, 0, 0, 0, 1,\n",
              "       1, 0, 0, 0, 0, 0, 0, 1, 0, 0, 0, 0, 0, 0, 0, 0, 0, 0, 0, 0, 0, 1,\n",
              "       0, 1, 0, 1, 0, 0, 0, 1, 1, 0, 0, 1])"
            ]
          },
          "metadata": {
            "tags": []
          },
          "execution_count": 20
        }
      ]
    },
    {
      "cell_type": "code",
      "metadata": {
        "id": "IGGZug2MbzD8",
        "colab_type": "code",
        "outputId": "ee45470f-d672-4806-dc4b-0ded022bdfc9",
        "trusted": true,
        "colab": {
          "base_uri": "https://localhost:8080/",
          "height": 34
        }
      },
      "source": [
        "print(\"Gaussian NB accuracy: {}\".format(accuracy_score(y_test, y_gauss_pred)))"
      ],
      "execution_count": 0,
      "outputs": [
        {
          "output_type": "stream",
          "text": [
            "Gaussian NB accuracy: 0.7456896551724138\n"
          ],
          "name": "stdout"
        }
      ]
    },
    {
      "cell_type": "code",
      "metadata": {
        "id": "gWv4UXZzbzD-",
        "colab_type": "code",
        "outputId": "5aa66d5b-8063-48cb-f47e-7bbad9b2f157",
        "trusted": true,
        "colab": {
          "base_uri": "https://localhost:8080/",
          "height": 34
        }
      },
      "source": [
        "multinomial_model = MultinomialNB()\n",
        "\n",
        "multinomial_model.fit(x_train, y_train)"
      ],
      "execution_count": 0,
      "outputs": [
        {
          "output_type": "execute_result",
          "data": {
            "text/plain": [
              "MultinomialNB(alpha=1.0, class_prior=None, fit_prior=True)"
            ]
          },
          "metadata": {
            "tags": []
          },
          "execution_count": 22
        }
      ]
    },
    {
      "cell_type": "markdown",
      "metadata": {
        "id": "ljniRSL2oKc2",
        "colab_type": "text"
      },
      "source": [
        ""
      ]
    },
    {
      "cell_type": "code",
      "metadata": {
        "id": "SbSbw6NNoEeD",
        "colab_type": "code",
        "colab": {}
      },
      "source": [
        ""
      ],
      "execution_count": 0,
      "outputs": []
    },
    {
      "cell_type": "code",
      "metadata": {
        "id": "CRKqSV3qbzEA",
        "colab_type": "code",
        "trusted": true,
        "colab": {}
      },
      "source": [
        "y_mul_preds = multinomial_model.predict(x_test)"
      ],
      "execution_count": 0,
      "outputs": []
    },
    {
      "cell_type": "code",
      "metadata": {
        "id": "ylBOgDH5bzEC",
        "colab_type": "code",
        "outputId": "aefc63df-2214-4d29-e22b-a76b0bfb3d35",
        "trusted": true,
        "colab": {
          "base_uri": "https://localhost:8080/",
          "height": 34
        }
      },
      "source": [
        "print(\"Multinomial NB accuracy: {}\".format(accuracy_score(y_pred, y_mul_preds)))"
      ],
      "execution_count": 0,
      "outputs": [
        {
          "output_type": "stream",
          "text": [
            "Multinomial NB accuracy: 0.6939655172413793\n"
          ],
          "name": "stdout"
        }
      ]
    },
    {
      "cell_type": "code",
      "metadata": {
        "id": "ulm_HhfE4BJl",
        "colab_type": "code",
        "colab": {}
      },
      "source": [
        "dataset.columns=[\"source\",\"host\",\"link\",\"date\",\"duration\",\"time\",\"title\",\"comment\",\"tag\"]"
      ],
      "execution_count": 0,
      "outputs": []
    },
    {
      "cell_type": "code",
      "metadata": {
        "id": "AFXdJnY45DaA",
        "colab_type": "code",
        "outputId": "a2b1a6c8-d9da-465f-81a5-7043276e0039",
        "colab": {
          "base_uri": "https://localhost:8080/",
          "height": 314
        }
      },
      "source": [
        "dataset.hist()"
      ],
      "execution_count": 0,
      "outputs": [
        {
          "output_type": "execute_result",
          "data": {
            "text/plain": [
              "array([[<matplotlib.axes._subplots.AxesSubplot object at 0x7f94194a44a8>]],\n",
              "      dtype=object)"
            ]
          },
          "metadata": {
            "tags": []
          },
          "execution_count": 26
        },
        {
          "output_type": "display_data",
          "data": {
            "image/png": "[encoded data removed]",
            "text/plain": [
              "<Figure size 432x288 with 1 Axes>"
            ]
          },
          "metadata": {
            "tags": []
          }
        }
      ]
    },
    {
      "cell_type": "code",
      "metadata": {
        "id": "1cUq1xk_6FmA",
        "colab_type": "code",
        "colab": {}
      },
      "source": [
        "ds=dataset.copy()"
      ],
      "execution_count": 0,
      "outputs": []
    },
    {
      "cell_type": "code",
      "metadata": {
        "id": "IbE_EJ906qkT",
        "colab_type": "code",
        "colab": {}
      },
      "source": [
        "ds[\"source\"].replace(\"FORUMS\",\"0\",inplace=True)\n",
        "ds[\"source\"].replace(\"BLOG\",\"1\",inplace=True)\n",
        "ds[\"source\"].replace(\"FACEBOOK\",\"2\",inplace=True)\n",
        "ds[\"source\"].replace(\"Facebook\",\"2\",inplace=True)\n",
        "ds[\"source\"].replace(\"YOUTUBE\",\"3\",inplace=True)\n"
      ],
      "execution_count": 0,
      "outputs": []
    },
    {
      "cell_type": "code",
      "metadata": {
        "id": "lcDVQ6S57IM7",
        "colab_type": "code",
        "outputId": "47098faf-5d93-4d37-8e9f-8df4f08c0fa9",
        "colab": {
          "base_uri": "https://localhost:8080/",
          "height": 450
        }
      },
      "source": [
        "ds.head()"
      ],
      "execution_count": 0,
      "outputs": [
        {
          "output_type": "execute_result",
          "data": {
            "text/html": [
              "<div>\n",
              "<style scoped>\n",
              "    .dataframe tbody tr th:only-of-type {\n",
              "        vertical-align: middle;\n",
              "    }\n",
              "\n",
              "    .dataframe tbody tr th {\n",
              "        vertical-align: top;\n",
              "    }\n",
              "\n",
              "    .dataframe thead th {\n",
              "        text-align: right;\n",
              "    }\n",
              "</style>\n",
              "<table border=\"1\" class=\"dataframe\">\n",
              "  <thead>\n",
              "    <tr style=\"text-align: right;\">\n",
              "      <th></th>\n",
              "      <th>source</th>\n",
              "      <th>host</th>\n",
              "      <th>link</th>\n",
              "      <th>date</th>\n",
              "      <th>duration</th>\n",
              "      <th>time</th>\n",
              "      <th>title</th>\n",
              "      <th>comment</th>\n",
              "      <th>tag</th>\n",
              "    </tr>\n",
              "  </thead>\n",
              "  <tbody>\n",
              "    <tr>\n",
              "      <th>0</th>\n",
              "      <td>FORUMS</td>\n",
              "      <td>cafepharma.com</td>\n",
              "      <td>http://cafepharma.com/boards/threads/epstein.5...</td>\n",
              "      <td>6/15/2016</td>\n",
              "      <td>13:58:00</td>\n",
              "      <td>6/15/2016 23:28</td>\n",
              "      <td>Epstein</td>\n",
              "      <td>I don't disagree with you in principle. I'm ju...</td>\n",
              "      <td>0</td>\n",
              "    </tr>\n",
              "    <tr>\n",
              "      <th>1</th>\n",
              "      <td>FORUMS</td>\n",
              "      <td>www.patient.co.uk</td>\n",
              "      <td>http://www.patient.co.uk/forums/discuss/enlarg...</td>\n",
              "      <td>5/7/2016</td>\n",
              "      <td>0.820833333</td>\n",
              "      <td>42498.21667</td>\n",
              "      <td>Enlarged Heart.Thread Enlarged Heart</td>\n",
              "      <td>I am always dizzy I get dizzy standing up so I...</td>\n",
              "      <td>1</td>\n",
              "    </tr>\n",
              "    <tr>\n",
              "      <th>2</th>\n",
              "      <td>BLOG</td>\n",
              "      <td>http://abcnewsradioonline.com/entertainment-news</td>\n",
              "      <td>http://abcnewsradioonline.com/entertainment-ne...</td>\n",
              "      <td>4/14/2016</td>\n",
              "      <td>15:00:38</td>\n",
              "      <td>4/15/2016 0:30</td>\n",
              "      <td>Queen Latifah Joins American Heart Association...</td>\n",
              "      <td>Axelle/Bauer-Griffin/FilmMagic(NEW YORK) -- Qu...</td>\n",
              "      <td>0</td>\n",
              "    </tr>\n",
              "    <tr>\n",
              "      <th>3</th>\n",
              "      <td>FORUMS</td>\n",
              "      <td>www.cancer-forums.net</td>\n",
              "      <td>http://www.cancer-forums.net/viewtopic.php?f=1...</td>\n",
              "      <td>6/18/2016</td>\n",
              "      <td>20:46:00</td>\n",
              "      <td>6/19/2016 6:16</td>\n",
              "      <td>Bulaemia</td>\n",
              "      <td>I am 17 and I have been throwing up for about ...</td>\n",
              "      <td>1</td>\n",
              "    </tr>\n",
              "    <tr>\n",
              "      <th>4</th>\n",
              "      <td>FORUMS</td>\n",
              "      <td>www.diyaudio.com</td>\n",
              "      <td>http://www.diyaudio.com/forums/lounge/292252-d...</td>\n",
              "      <td>6/15/2016</td>\n",
              "      <td>3:26:00</td>\n",
              "      <td>6/15/2016 12:56</td>\n",
              "      <td>DIY Silver interconnects and RCAs???</td>\n",
              "      <td>Quote: Originally Posted by Boyan Silyavski Wa...</td>\n",
              "      <td>0</td>\n",
              "    </tr>\n",
              "  </tbody>\n",
              "</table>\n",
              "</div>"
            ],
            "text/plain": [
              "   source  ... tag\n",
              "0  FORUMS  ...   0\n",
              "1  FORUMS  ...   1\n",
              "2    BLOG  ...   0\n",
              "3  FORUMS  ...   1\n",
              "4  FORUMS  ...   0\n",
              "\n",
              "[5 rows x 9 columns]"
            ]
          },
          "metadata": {
            "tags": []
          },
          "execution_count": 28
        }
      ]
    },
    {
      "cell_type": "code",
      "metadata": {
        "id": "WAOzytt59NnS",
        "colab_type": "code",
        "outputId": "ec72643d-6334-4c13-eea1-7089f4fd76ec",
        "colab": {
          "base_uri": "https://localhost:8080/",
          "height": 286
        }
      },
      "source": [
        "x=np.array(ds[\"source\"])\n",
        "y=np.array(ds[\"tag\"])\n",
        "plt.bar(x,y)"
      ],
      "execution_count": 0,
      "outputs": [
        {
          "output_type": "execute_result",
          "data": {
            "text/plain": [
              "<BarContainer object of 1157 artists>"
            ]
          },
          "metadata": {
            "tags": []
          },
          "execution_count": 29
        },
        {
          "output_type": "display_data",
          "data": {
            "image/png": "[encoded data removed]",
            "text/plain": [
              "<Figure size 432x288 with 1 Axes>"
            ]
          },
          "metadata": {
            "tags": []
          }
        }
      ]
    },
    {
      "cell_type": "code",
      "metadata": {
        "id": "Pd1tzR3tVl0i",
        "colab_type": "code",
        "outputId": "a8ab3b6c-56ba-49aa-eeb5-e02a227a4498",
        "colab": {
          "base_uri": "https://localhost:8080/",
          "height": 50
        }
      },
      "source": [
        "from sklearn.metrics import confusion_matrix\n",
        "conf_mat=confusion_matrix(y_test,y_pred)\n",
        "conf_mat"
      ],
      "execution_count": 0,
      "outputs": [
        {
          "output_type": "execute_result",
          "data": {
            "text/plain": [
              "array([[166,   5],\n",
              "       [ 44,  17]])"
            ]
          },
          "metadata": {
            "tags": []
          },
          "execution_count": 30
        }
      ]
    },
    {
      "cell_type": "code",
      "metadata": {
        "id": "lQMrJvuZV-DJ",
        "colab_type": "code",
        "outputId": "5d56a750-0116-4723-c156-bc7797bb0f7d",
        "colab": {
          "base_uri": "https://localhost:8080/",
          "height": 50
        }
      },
      "source": [
        "conf_mat_gauss=confusion_matrix(y_test,y_gauss_pred)\n",
        "conf_mat_gauss"
      ],
      "execution_count": 0,
      "outputs": [
        {
          "output_type": "execute_result",
          "data": {
            "text/plain": [
              "array([[143,  28],\n",
              "       [ 31,  30]])"
            ]
          },
          "metadata": {
            "tags": []
          },
          "execution_count": 31
        }
      ]
    },
    {
      "cell_type": "code",
      "metadata": {
        "id": "PH54ds_Ma11v",
        "colab_type": "code",
        "outputId": "838a54b8-88d1-456b-cdc4-a2756b4d4cd6",
        "colab": {
          "base_uri": "https://localhost:8080/",
          "height": 300
        }
      },
      "source": [
        "import seaborn as sns\n",
        "sns.countplot(label='count',x='tag', data=dataset)"
      ],
      "execution_count": 0,
      "outputs": [
        {
          "output_type": "execute_result",
          "data": {
            "text/plain": [
              "<matplotlib.axes._subplots.AxesSubplot at 0x7f941589b780>"
            ]
          },
          "metadata": {
            "tags": []
          },
          "execution_count": 34
        },
        {
          "output_type": "display_data",
          "data": {
            "image/png": "[encoded data removed]",
            "text/plain": [
              "<Figure size 432x288 with 1 Axes>"
            ]
          },
          "metadata": {
            "tags": []
          }
        }
      ]
    },
    {
      "cell_type": "code",
      "metadata": {
        "id": "9VHPEzALa97m",
        "colab_type": "code",
        "outputId": "fd8a5b99-eae0-4736-f7b8-c64619e2c834",
        "colab": {
          "base_uri": "https://localhost:8080/",
          "height": 386
        }
      },
      "source": [
        "sns.catplot(data=ds,y='source',x='tag',jitter=0.4)"
      ],
      "execution_count": 0,
      "outputs": [
        {
          "output_type": "execute_result",
          "data": {
            "text/plain": [
              "<seaborn.axisgrid.FacetGrid at 0x7f941941a048>"
            ]
          },
          "metadata": {
            "tags": []
          },
          "execution_count": 36
        },
        {
          "output_type": "display_data",
          "data": {
            "image/png": "[encoded data removed]",
            "text/plain": [
              "<Figure size 360x360 with 1 Axes>"
            ]
          },
          "metadata": {
            "tags": []
          }
        }
      ]
    }
  ]
}